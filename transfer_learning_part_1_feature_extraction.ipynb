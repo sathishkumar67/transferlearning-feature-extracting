{
  "nbformat": 4,
  "nbformat_minor": 0,
  "metadata": {
    "colab": {
      "provenance": []
    },
    "kernelspec": {
      "name": "python3",
      "display_name": "Python 3"
    },
    "language_info": {
      "name": "python"
    },
    "accelerator": "GPU",
    "gpuClass": "standard"
  },
  "cells": [
    {
      "cell_type": "markdown",
      "source": [
        "# Transfer Learning with TensorFlow Part 1: Feature Extraction\n",
        "Transfer Learning is leveraging a working model's existing architecture and learned patterns for our own problem.\n",
        "\n",
        "There are two main benefits:\n",
        "\n",
        "1. Can leverage an existing neural network architecture proven to work on problems similar to our own.\n",
        "\n",
        "2. Can leverage a working neural network architecture which has already learned patterns on similar data to our own, then we can adapt those patterns to our own data."
      ],
      "metadata": {
        "id": "BGcScZy0iS1g"
      }
    },
    {
      "cell_type": "code",
      "source": [
        "# to check GPU\n",
        "!nvidia-smi"
      ],
      "metadata": {
        "colab": {
          "base_uri": "https://localhost:8080/"
        },
        "id": "KlNSZ_wkjOey",
        "outputId": "839b3aa5-af20-4fde-ee5f-c60563180b18"
      },
      "execution_count": 1,
      "outputs": [
        {
          "output_type": "stream",
          "name": "stdout",
          "text": [
            "Fri Feb 24 16:30:21 2023       \n",
            "+-----------------------------------------------------------------------------+\n",
            "| NVIDIA-SMI 510.47.03    Driver Version: 510.47.03    CUDA Version: 11.6     |\n",
            "|-------------------------------+----------------------+----------------------+\n",
            "| GPU  Name        Persistence-M| Bus-Id        Disp.A | Volatile Uncorr. ECC |\n",
            "| Fan  Temp  Perf  Pwr:Usage/Cap|         Memory-Usage | GPU-Util  Compute M. |\n",
            "|                               |                      |               MIG M. |\n",
            "|===============================+======================+======================|\n",
            "|   0  Tesla T4            Off  | 00000000:00:04.0 Off |                    0 |\n",
            "| N/A   41C    P0    26W /  70W |      0MiB / 15360MiB |      0%      Default |\n",
            "|                               |                      |                  N/A |\n",
            "+-------------------------------+----------------------+----------------------+\n",
            "                                                                               \n",
            "+-----------------------------------------------------------------------------+\n",
            "| Processes:                                                                  |\n",
            "|  GPU   GI   CI        PID   Type   Process name                  GPU Memory |\n",
            "|        ID   ID                                                   Usage      |\n",
            "|=============================================================================|\n",
            "|  No running processes found                                                 |\n",
            "+-----------------------------------------------------------------------------+\n"
          ]
        }
      ]
    },
    {
      "cell_type": "code",
      "source": [
        "# Get data \n",
        "import zipfile\n",
        "\n",
        "# Download the data\n",
        "!wget https://storage.googleapis.com/ztm_tf_course/food_vision/10_food_classes_10_percent.zip\n",
        "\n",
        "# Unzip the downloaded file\n",
        "zip_ref = zipfile.ZipFile(\"10_food_classes_10_percent.zip\")\n",
        "zip_ref.extractall()\n",
        "zip_ref.close()"
      ],
      "metadata": {
        "colab": {
          "base_uri": "https://localhost:8080/"
        },
        "id": "t1B1oQ-FjYQJ",
        "outputId": "5f4b008a-529d-4697-8768-2bd597d2498c"
      },
      "execution_count": 2,
      "outputs": [
        {
          "output_type": "stream",
          "name": "stdout",
          "text": [
            "--2023-02-24 16:30:22--  https://storage.googleapis.com/ztm_tf_course/food_vision/10_food_classes_10_percent.zip\n",
            "Resolving storage.googleapis.com (storage.googleapis.com)... 142.250.153.128, 142.250.145.128, 173.194.79.128, ...\n",
            "Connecting to storage.googleapis.com (storage.googleapis.com)|142.250.153.128|:443... connected.\n",
            "HTTP request sent, awaiting response... 200 OK\n",
            "Length: 168546183 (161M) [application/zip]\n",
            "Saving to: ‘10_food_classes_10_percent.zip’\n",
            "\n",
            "10_food_classes_10_ 100%[===================>] 160.74M  41.8MB/s    in 4.5s    \n",
            "\n",
            "2023-02-24 16:30:26 (36.1 MB/s) - ‘10_food_classes_10_percent.zip’ saved [168546183/168546183]\n",
            "\n"
          ]
        }
      ]
    },
    {
      "cell_type": "code",
      "source": [
        "# How many images in each folder?\n",
        "import os\n",
        "\n",
        "# walk through 10 percent data directory and list number of files\n",
        "for dirpath, dirnames, filenames in os.walk(\"10_food_classes_10_percent\"):\n",
        "  print(f\"There are {len(dirnames)} directories and {len(filenames)} images in '{dirpath}'\")"
      ],
      "metadata": {
        "colab": {
          "base_uri": "https://localhost:8080/"
        },
        "id": "Pg1q3BDRmJEo",
        "outputId": "8fe866ae-bc66-4d0e-cfab-429399e0b730"
      },
      "execution_count": 3,
      "outputs": [
        {
          "output_type": "stream",
          "name": "stdout",
          "text": [
            "There are 2 directories and 0 images in '10_food_classes_10_percent'\n",
            "There are 10 directories and 0 images in '10_food_classes_10_percent/test'\n",
            "There are 0 directories and 250 images in '10_food_classes_10_percent/test/chicken_curry'\n",
            "There are 0 directories and 250 images in '10_food_classes_10_percent/test/sushi'\n",
            "There are 0 directories and 250 images in '10_food_classes_10_percent/test/ramen'\n",
            "There are 0 directories and 250 images in '10_food_classes_10_percent/test/pizza'\n",
            "There are 0 directories and 250 images in '10_food_classes_10_percent/test/chicken_wings'\n",
            "There are 0 directories and 250 images in '10_food_classes_10_percent/test/steak'\n",
            "There are 0 directories and 250 images in '10_food_classes_10_percent/test/grilled_salmon'\n",
            "There are 0 directories and 250 images in '10_food_classes_10_percent/test/fried_rice'\n",
            "There are 0 directories and 250 images in '10_food_classes_10_percent/test/ice_cream'\n",
            "There are 0 directories and 250 images in '10_food_classes_10_percent/test/hamburger'\n",
            "There are 10 directories and 0 images in '10_food_classes_10_percent/train'\n",
            "There are 0 directories and 75 images in '10_food_classes_10_percent/train/chicken_curry'\n",
            "There are 0 directories and 75 images in '10_food_classes_10_percent/train/sushi'\n",
            "There are 0 directories and 75 images in '10_food_classes_10_percent/train/ramen'\n",
            "There are 0 directories and 75 images in '10_food_classes_10_percent/train/pizza'\n",
            "There are 0 directories and 75 images in '10_food_classes_10_percent/train/chicken_wings'\n",
            "There are 0 directories and 75 images in '10_food_classes_10_percent/train/steak'\n",
            "There are 0 directories and 75 images in '10_food_classes_10_percent/train/grilled_salmon'\n",
            "There are 0 directories and 75 images in '10_food_classes_10_percent/train/fried_rice'\n",
            "There are 0 directories and 75 images in '10_food_classes_10_percent/train/ice_cream'\n",
            "There are 0 directories and 75 images in '10_food_classes_10_percent/train/hamburger'\n"
          ]
        }
      ]
    },
    {
      "cell_type": "markdown",
      "source": [
        "# Creating data loaders (preparing the data)"
      ],
      "metadata": {
        "id": "0GjNm-zgmpDW"
      }
    },
    {
      "cell_type": "code",
      "source": [
        "# Setup data inputs\n",
        "import tensorflow as tf\n",
        "from tensorflow.keras.preprocessing.image import ImageDataGenerator\n",
        "\n",
        "IMAGE_SHAPE = (224, 224)\n",
        "BATCH_SIZE = 32\n",
        "\n",
        "train_dir = \"10_food_classes_10_percent/train/\"\n",
        "test_dir = \"10_food_classes_10_percent/test/\"\n",
        "\n",
        "train_datagen = ImageDataGenerator(rescale = 1/255.)\n",
        "test_datagen  = ImageDataGenerator(rescale = 1/255.)\n",
        "\n",
        "train_data_10_percent = train_datagen.flow_from_directory(train_dir,\n",
        "                                                          target_size = IMAGE_SHAPE,\n",
        "                                                          batch_size = BATCH_SIZE,\n",
        "                                                          class_mode = \"categorical\")\n",
        "\n",
        "test_data = test_datagen.flow_from_directory(test_dir,\n",
        "                                             target_size = IMAGE_SHAPE,\n",
        "                                             batch_size = BATCH_SIZE,\n",
        "                                             class_mode = \"categorical\")"
      ],
      "metadata": {
        "colab": {
          "base_uri": "https://localhost:8080/"
        },
        "id": "Ha9vzOsdnAT-",
        "outputId": "766c2cde-ab74-4d46-9f44-2e15c77f0e24"
      },
      "execution_count": 4,
      "outputs": [
        {
          "output_type": "stream",
          "name": "stdout",
          "text": [
            "Found 750 images belonging to 10 classes.\n",
            "Found 2500 images belonging to 10 classes.\n"
          ]
        }
      ]
    },
    {
      "cell_type": "markdown",
      "source": [
        "# Setting up callbacks (things to run whilst our model trains)\n",
        "\n",
        "Callbacks are extra functionality you can add to your models to be performed during or after training.  "
      ],
      "metadata": {
        "id": "dcD7rWApnWSi"
      }
    },
    {
      "cell_type": "code",
      "source": [
        "# Create TensorBoard callback\n",
        "\n",
        "import datetime\n",
        "\n",
        "def create_tensorboard_callback(dir_name, experiment_name):\n",
        "  log_dir = dir_name + \"/\" + experiment_name + \"/\" + datetime.datetime.now().strftime(\"%Y%m%d-%H%M%s\")\n",
        "  tensorboard_callback = tf.keras.callbacks.TensorBoard(log_dir = log_dir)\n",
        "  print(f\"Saving TensorBoard log files to: {log_dir}\")\n",
        "  return tensorboard_callback"
      ],
      "metadata": {
        "id": "sTp5Ipsod39E"
      },
      "execution_count": 5,
      "outputs": []
    },
    {
      "cell_type": "markdown",
      "source": [
        "# Creating models using TensorFlow Hub\n"
      ],
      "metadata": {
        "id": "7vpg1iAWb0WX"
      }
    },
    {
      "cell_type": "code",
      "source": [
        "# model url\n",
        "\n",
        "efficientnet_url = \"https://tfhub.dev/tensorflow/efficientnet/b0/feature-vector/1\"\n",
        "\n",
        "resnet_url = \"https://tfhub.dev/google/imagenet/resnet_v2_50/feature_vector/5\""
      ],
      "metadata": {
        "id": "DkxEGeO6b6Cu"
      },
      "execution_count": 6,
      "outputs": []
    },
    {
      "cell_type": "code",
      "source": [
        "# Imports\n",
        "import tensorflow as tf\n",
        "import tensorflow_hub as hub\n",
        "from tensorflow.keras import layers"
      ],
      "metadata": {
        "id": "UC7WP8f1dUgS"
      },
      "execution_count": 7,
      "outputs": []
    },
    {
      "cell_type": "code",
      "source": [
        "# create model() function to create a model from a URL\n",
        "def create_model(model_url, num_classes = 10):\n",
        "  # Download the pretrained model and save it as a keras layer\n",
        "  feature_extractor_layer = hub.KerasLayer(model_url,\n",
        "                                           trainable = False,\n",
        "                                           name = \"feature_extraction_layer\",\n",
        "                                           input_shape = IMAGE_SHAPE + (3,))\n",
        "  \n",
        "  # Create our own model\n",
        "  model = tf.keras.Sequential([\n",
        "      feature_extractor_layer,\n",
        "      layers.Dense(num_classes, activation = \"softmax\", name = \"output_layer\")\n",
        "  ])\n",
        "\n",
        "  return model"
      ],
      "metadata": {
        "id": "nYrgoKIsdlXa"
      },
      "execution_count": 8,
      "outputs": []
    },
    {
      "cell_type": "code",
      "source": [
        "# Creating and Testing ResNet Tensorflow Hub Feature Extraction model\n",
        "resnet_model = create_model(resnet_url,\n",
        "                            num_classes = train_data_10_percent.num_classes)"
      ],
      "metadata": {
        "id": "kXhRdQ8IfKbX",
        "colab": {
          "base_uri": "https://localhost:8080/"
        },
        "outputId": "d146f3b1-ed22-4b95-fe85-6ebd061afb0c"
      },
      "execution_count": 9,
      "outputs": [
        {
          "output_type": "stream",
          "name": "stderr",
          "text": [
            "WARNING:tensorflow:Please fix your imports. Module tensorflow.python.training.tracking.data_structures has been moved to tensorflow.python.trackable.data_structures. The old module will be deleted in version 2.11.\n",
            "WARNING:tensorflow:From /usr/local/lib/python3.8/dist-packages/tensorflow/python/autograph/pyct/static_analysis/liveness.py:83: Analyzer.lamba_check (from tensorflow.python.autograph.pyct.static_analysis.liveness) is deprecated and will be removed after 2023-09-23.\n",
            "Instructions for updating:\n",
            "Lambda fuctions will be no more assumed to be used in the statement where they are used, or at least in the same block. https://github.com/tensorflow/tensorflow/issues/56089\n"
          ]
        }
      ]
    },
    {
      "cell_type": "code",
      "source": [
        "# Compile the resnet model \n",
        "resnet_model.compile(loss = \"categorical_crossentropy\",\n",
        "                     optimizer = tf.keras.optimizers.Adam(),\n",
        "                     metrics = [\"accuracy\"])\n",
        "\n",
        "# fit the model\n",
        "history_resnet = resnet_model.fit(train_data_10_percent,\n",
        "                 epochs = 5,\n",
        "                 steps_per_epoch = len(train_data_10_percent),\n",
        "                 validation_data = test_data,\n",
        "                 validation_steps = len(test_data),\n",
        "                 callbacks = [create_tensorboard_callback(dir_name = \"tensorflow_hub\",\n",
        "                                                         experiment_name = \"resnet50v2\")])"
      ],
      "metadata": {
        "colab": {
          "base_uri": "https://localhost:8080/"
        },
        "id": "r0mbSHBxf3xC",
        "outputId": "d11f9f0c-a139-446f-bc74-aded6156554d"
      },
      "execution_count": 10,
      "outputs": [
        {
          "output_type": "stream",
          "name": "stdout",
          "text": [
            "Saving TensorBoard log files to: tensorflow_hub/resnet50v2/20230224-16301677256244\n",
            "Epoch 1/5\n",
            "24/24 [==============================] - 47s 1s/step - loss: 1.8552 - accuracy: 0.3880 - val_loss: 1.1767 - val_accuracy: 0.6268\n",
            "Epoch 2/5\n",
            "24/24 [==============================] - 17s 735ms/step - loss: 0.8871 - accuracy: 0.7547 - val_loss: 0.8499 - val_accuracy: 0.7276\n",
            "Epoch 3/5\n",
            "24/24 [==============================] - 25s 1s/step - loss: 0.6041 - accuracy: 0.8427 - val_loss: 0.7625 - val_accuracy: 0.7512\n",
            "Epoch 4/5\n",
            "24/24 [==============================] - 17s 740ms/step - loss: 0.4602 - accuracy: 0.8800 - val_loss: 0.7050 - val_accuracy: 0.7680\n",
            "Epoch 5/5\n",
            "24/24 [==============================] - 24s 1s/step - loss: 0.3830 - accuracy: 0.9133 - val_loss: 0.6995 - val_accuracy: 0.7628\n"
          ]
        }
      ]
    },
    {
      "cell_type": "code",
      "source": [
        "# resnet summary\n",
        "resnet_model.summary()"
      ],
      "metadata": {
        "colab": {
          "base_uri": "https://localhost:8080/"
        },
        "id": "AkIbHwx7hTyY",
        "outputId": "484cebbc-ded8-4808-aefc-05beb0392e0b"
      },
      "execution_count": 11,
      "outputs": [
        {
          "output_type": "stream",
          "name": "stdout",
          "text": [
            "Model: \"sequential\"\n",
            "_________________________________________________________________\n",
            " Layer (type)                Output Shape              Param #   \n",
            "=================================================================\n",
            " feature_extraction_layer (K  (None, 2048)             23564800  \n",
            " erasLayer)                                                      \n",
            "                                                                 \n",
            " output_layer (Dense)        (None, 10)                20490     \n",
            "                                                                 \n",
            "=================================================================\n",
            "Total params: 23,585,290\n",
            "Trainable params: 20,490\n",
            "Non-trainable params: 23,564,800\n",
            "_________________________________________________________________\n"
          ]
        }
      ]
    },
    {
      "cell_type": "code",
      "source": [
        "# plot model for resnet\n",
        "tf.keras.utils.plot_model(resnet_model, show_shapes=True)"
      ],
      "metadata": {
        "colab": {
          "base_uri": "https://localhost:8080/",
          "height": 312
        },
        "id": "P9S3UEI-hYEB",
        "outputId": "ab589d0a-f765-4a2c-a6ab-987fecaa9e32"
      },
      "execution_count": 12,
      "outputs": [
        {
          "output_type": "execute_result",
          "data": {
            "image/png": "[encoded data removed]",
            "text/plain": [
              "<IPython.core.display.Image object>"
            ]
          },
          "metadata": {},
          "execution_count": 12
        }
      ]
    },
    {
      "cell_type": "code",
      "source": [
        "# creating and testing \n",
        "efficientnet_model = create_model(efficientnet_url,\n",
        "                                  num_classes = train_data_10_percent.num_classes)"
      ],
      "metadata": {
        "id": "tX1-OdAHhpLh"
      },
      "execution_count": 13,
      "outputs": []
    },
    {
      "cell_type": "code",
      "source": [
        "# compile the efficientnet model\n",
        "efficientnet_model.compile(loss = \"categorical_crossentropy\",\n",
        "                           optimizer = tf.keras.optimizers.Adam(),\n",
        "                           metrics = [\"accuracy\"])\n",
        "\n",
        "# fit the model\n",
        "history_efficientnet = efficientnet_model.fit(train_data_10_percent,\n",
        "                                             epochs = 5,\n",
        "                                             steps_per_epoch = len(train_data_10_percent),\n",
        "                                             validation_data = test_data,\n",
        "                                             validation_steps = len(test_data),\n",
        "                                             callbacks = [create_tensorboard_callback(dir_name = \"tensorflow_hub\",\n",
        "                                                                                      experiment_name = \"efficientnet\")])"
      ],
      "metadata": {
        "id": "SeiIWLQDjKvc",
        "colab": {
          "base_uri": "https://localhost:8080/"
        },
        "outputId": "a8d172ba-7718-47b3-acd7-18e3bfdb86af"
      },
      "execution_count": 14,
      "outputs": [
        {
          "output_type": "stream",
          "name": "stdout",
          "text": [
            "Saving TensorBoard log files to: tensorflow_hub/efficientnet/20230224-16331677256408\n",
            "Epoch 1/5\n",
            "24/24 [==============================] - 37s 993ms/step - loss: 1.8342 - accuracy: 0.4280 - val_loss: 1.2916 - val_accuracy: 0.7380\n",
            "Epoch 2/5\n",
            "24/24 [==============================] - 19s 829ms/step - loss: 1.0427 - accuracy: 0.7867 - val_loss: 0.8643 - val_accuracy: 0.8192\n",
            "Epoch 3/5\n",
            "24/24 [==============================] - 20s 844ms/step - loss: 0.7552 - accuracy: 0.8200 - val_loss: 0.6980 - val_accuracy: 0.8420\n",
            "Epoch 4/5\n",
            "24/24 [==============================] - 23s 972ms/step - loss: 0.6064 - accuracy: 0.8587 - val_loss: 0.6155 - val_accuracy: 0.8480\n",
            "Epoch 5/5\n",
            "24/24 [==============================] - 18s 768ms/step - loss: 0.5153 - accuracy: 0.8840 - val_loss: 0.5599 - val_accuracy: 0.8612\n"
          ]
        }
      ]
    },
    {
      "cell_type": "code",
      "source": [
        "# efficientnet summary()\n",
        "efficientnet_model.summary()"
      ],
      "metadata": {
        "colab": {
          "base_uri": "https://localhost:8080/"
        },
        "id": "SofLDqLckV4J",
        "outputId": "25fbc0f6-1faa-4bbc-abad-ba1337c1c4ea"
      },
      "execution_count": 15,
      "outputs": [
        {
          "output_type": "stream",
          "name": "stdout",
          "text": [
            "Model: \"sequential_1\"\n",
            "_________________________________________________________________\n",
            " Layer (type)                Output Shape              Param #   \n",
            "=================================================================\n",
            " feature_extraction_layer (K  (None, 1280)             4049564   \n",
            " erasLayer)                                                      \n",
            "                                                                 \n",
            " output_layer (Dense)        (None, 10)                12810     \n",
            "                                                                 \n",
            "=================================================================\n",
            "Total params: 4,062,374\n",
            "Trainable params: 12,810\n",
            "Non-trainable params: 4,049,564\n",
            "_________________________________________________________________\n"
          ]
        }
      ]
    },
    {
      "cell_type": "code",
      "source": [
        "# plot model for efficientnet model\n",
        "tf.keras.utils.plot_model(efficientnet_model) "
      ],
      "metadata": {
        "colab": {
          "base_uri": "https://localhost:8080/",
          "height": 272
        },
        "id": "GyOTGn_3lPh_",
        "outputId": "43b7153b-eb8a-4048-cff9-ed61e3e8786b"
      },
      "execution_count": 16,
      "outputs": [
        {
          "output_type": "execute_result",
          "data": {
            "image/png": "[encoded data removed]",
            "text/plain": [
              "<IPython.core.display.Image object>"
            ]
          },
          "metadata": {},
          "execution_count": 16
        }
      ]
    },
    {
      "cell_type": "code",
      "source": [
        "# plotting loss and accuracy curves for both models\n",
        "import matplotlib.pyplot as plt\n",
        "\n",
        "efficientnet_loss = history_efficientnet.history[\"loss\"]\n",
        "efficientnet_accuracy = history_efficientnet.history[\"accuracy\"]\n",
        "\n",
        "resnet_loss = history_resnet.history[\"loss\"]\n",
        "resnet_accuracy = history_resnet.history[\"accuracy\"]\n",
        "\n",
        "plt.plot(efficientnet_loss, label = \"efficientnet\")\n",
        "plt.plot(resnet_loss, label = \"resnet\")\n",
        "plt.legend()\n",
        "plt.title(\"loss curves\");\n",
        "\n",
        "plt.figure()\n",
        "plt.plot(efficientnet_accuracy,label = \"efficientnet\")\n",
        "plt.plot(resnet_accuracy, label = \"resnet\")\n",
        "plt.legend()\n",
        "plt.title(\"accuracy curves\");"
      ],
      "metadata": {
        "colab": {
          "base_uri": "https://localhost:8080/",
          "height": 545
        },
        "id": "F4vB0uXUlZYn",
        "outputId": "172e0e17-8149-461b-a249-34577eb06546"
      },
      "execution_count": 17,
      "outputs": [
        {
          "output_type": "display_data",
          "data": {
            "text/plain": [
              "<Figure size 432x288 with 1 Axes>"
            ],
            "image/png": "[encoded data removed]"
          },
          "metadata": {
            "needs_background": "light"
          }
        },
        {
          "output_type": "display_data",
          "data": {
            "text/plain": [
              "<Figure size 432x288 with 1 Axes>"
            ],
            "image/png": "[encoded data removed]"
          },
          "metadata": {
            "needs_background": "light"
          }
        }
      ]
    },
    {
      "cell_type": "code",
      "source": [
        "# to find the no of layers in efficientnet layer\n",
        "len(efficientnet_model.layers[0].weights)"
      ],
      "metadata": {
        "colab": {
          "base_uri": "https://localhost:8080/"
        },
        "id": "1WNw4Jy1o2aD",
        "outputId": "41111487-8386-493f-d2a2-12e2b6ce05c9"
      },
      "execution_count": 18,
      "outputs": [
        {
          "output_type": "execute_result",
          "data": {
            "text/plain": [
              "309"
            ]
          },
          "metadata": {},
          "execution_count": 18
        }
      ]
    },
    {
      "cell_type": "markdown",
      "source": [
        "# Different types of transfer learning\n",
        "\n",
        "1. **\"As in\" transfer learning** - using an existing model with no changes what so ever \n",
        "2. **\"Feature extraction** - use the prelearned patterns of an existing model and adjust the output layer for your own problem\n",
        "3. **\"Fine-tuning\"** - use the prelearned patterns of an existing model and \"fine-tune\" many or all of the underlying layers"
      ],
      "metadata": {
        "id": "F-R4qp0wmJsA"
      }
    },
    {
      "cell_type": "markdown",
      "source": [
        "# Comparing our models results using tensorboard"
      ],
      "metadata": {
        "id": "TLAnWdasB2-u"
      }
    },
    {
      "cell_type": "code",
      "source": [
        "# # upload tensorboard dev records\n",
        "# !tensorboard dev upload --logdir ./tensorflow_hub/ \\\n",
        "# --name \"Efficient vs Resnet\" \\\n",
        "# --description \"Comparing two different transfer learning model\" \\\n",
        "# --one_shot"
      ],
      "metadata": {
        "id": "42GAR2EbCGqu"
      },
      "execution_count": 19,
      "outputs": []
    },
    {
      "cell_type": "markdown",
      "source": [
        "# Building with full data"
      ],
      "metadata": {
        "id": "OBHqboZZQqWP"
      }
    },
    {
      "cell_type": "code",
      "source": [
        "!wget https://storage.googleapis.com/ztm_tf_course/food_vision/10_food_classes_all_data.zip\n",
        "zip_ref = zipfile.ZipFile(\"10_food_classes_all_data.zip\")\n",
        "zip_ref.extractall()\n",
        "zip_ref.close()"
      ],
      "metadata": {
        "colab": {
          "base_uri": "https://localhost:8080/"
        },
        "id": "TO7fqno7QwKZ",
        "outputId": "c6b9c400-5ded-4bb7-ddc5-900fbaa497ee"
      },
      "execution_count": 25,
      "outputs": [
        {
          "output_type": "stream",
          "name": "stdout",
          "text": [
            "--2023-02-24 16:38:46--  https://storage.googleapis.com/ztm_tf_course/food_vision/10_food_classes_all_data.zip\n",
            "Resolving storage.googleapis.com (storage.googleapis.com)... 108.177.127.128, 172.217.218.128, 142.251.18.128, ...\n",
            "Connecting to storage.googleapis.com (storage.googleapis.com)|108.177.127.128|:443... connected.\n",
            "HTTP request sent, awaiting response... 200 OK\n",
            "Length: 519183241 (495M) [application/zip]\n",
            "Saving to: ‘10_food_classes_all_data.zip.3’\n",
            "\n",
            "10_food_classes_all 100%[===================>] 495.13M  42.1MB/s    in 12s     \n",
            "\n",
            "2023-02-24 16:38:59 (40.9 MB/s) - ‘10_food_classes_all_data.zip.3’ saved [519183241/519183241]\n",
            "\n"
          ]
        }
      ]
    },
    {
      "cell_type": "code",
      "source": [
        "trainfuldata_dir = \"/content/10_food_classes_all_data/train\"\n",
        "trainfuldatagen = ImageDataGenerator(rescale = 1/255.)\n",
        "trainfuldata = trainfuldatagen.flow_from_directory(trainfuldata_dir,\n",
        "                                                     target_size = (224, 224),\n",
        "                                                     batch_size = 32,\n",
        "                                                     class_mode = \"categorical\")"
      ],
      "metadata": {
        "colab": {
          "base_uri": "https://localhost:8080/"
        },
        "id": "BOsqYFg5Q86H",
        "outputId": "cad9b0a6-c427-4a83-d099-b3c932507061"
      },
      "execution_count": 32,
      "outputs": [
        {
          "output_type": "stream",
          "name": "stdout",
          "text": [
            "Found 7500 images belonging to 10 classes.\n"
          ]
        }
      ]
    },
    {
      "cell_type": "code",
      "source": [
        "efficientnet_fulldatamodel = create_model(efficientnet_url, trainfuldata.num_classes)"
      ],
      "metadata": {
        "id": "5hDv49GHR4ee"
      },
      "execution_count": 33,
      "outputs": []
    },
    {
      "cell_type": "code",
      "source": [
        "efficientnet_fulldatamodel.compile(loss = \"categorical_crossentropy\",\n",
        "                                   optimizer = tf.keras.optimizers.Adam(),\n",
        "                                   metrics = [\"accuracy\"])\n",
        "efficientnet_fulldatamodel.fit(trainfuldata,\n",
        "                               epochs = 50,\n",
        "                               steps_per_epoch = len(trainfuldata),\n",
        "                               validation_data = test_data,\n",
        "                               validation_steps = len(test_data),\n",
        "                               callbacks = [create_tensorboard_callback(dir_name = \"tensorflow_hum\",\n",
        "                                                                        experiment_name = \"efficientnet_fulldata\"),tf.keras.callbacks.EarlyStopping(monitor = \"val_loss\",patience = 3,start_from_epoch = 5)])"
      ],
      "metadata": {
        "colab": {
          "base_uri": "https://localhost:8080/"
        },
        "id": "GDTbvhhsTJlP",
        "outputId": "fe218fe0-a5a5-476d-9c92-8c3c4ed9045f"
      },
      "execution_count": 38,
      "outputs": [
        {
          "output_type": "stream",
          "name": "stdout",
          "text": [
            "Saving TensorBoard log files to: tensorflow_hum/efficientnet_fulldata/20230224-17021677258164\n",
            "Epoch 1/50\n",
            "235/235 [==============================] - 58s 226ms/step - loss: 0.1655 - accuracy: 0.9545 - val_loss: 0.2588 - val_accuracy: 0.9188\n",
            "Epoch 2/50\n",
            "235/235 [==============================] - 50s 211ms/step - loss: 0.1500 - accuracy: 0.9632 - val_loss: 0.2594 - val_accuracy: 0.9152\n",
            "Epoch 3/50\n",
            "235/235 [==============================] - 50s 211ms/step - loss: 0.1422 - accuracy: 0.9625 - val_loss: 0.2595 - val_accuracy: 0.9188\n",
            "Epoch 4/50\n",
            "235/235 [==============================] - 50s 213ms/step - loss: 0.1322 - accuracy: 0.9671 - val_loss: 0.2653 - val_accuracy: 0.9156\n",
            "Epoch 5/50\n",
            "235/235 [==============================] - 50s 214ms/step - loss: 0.1241 - accuracy: 0.9727 - val_loss: 0.2631 - val_accuracy: 0.9172\n",
            "Epoch 6/50\n",
            "235/235 [==============================] - 51s 216ms/step - loss: 0.1172 - accuracy: 0.9741 - val_loss: 0.2647 - val_accuracy: 0.9164\n",
            "Epoch 7/50\n",
            "235/235 [==============================] - 50s 211ms/step - loss: 0.1100 - accuracy: 0.9765 - val_loss: 0.2665 - val_accuracy: 0.9196\n",
            "Epoch 8/50\n",
            "235/235 [==============================] - 50s 211ms/step - loss: 0.1036 - accuracy: 0.9793 - val_loss: 0.2715 - val_accuracy: 0.9152\n",
            "Epoch 9/50\n",
            "235/235 [==============================] - 50s 213ms/step - loss: 0.0977 - accuracy: 0.9813 - val_loss: 0.2694 - val_accuracy: 0.9176\n"
          ]
        },
        {
          "output_type": "execute_result",
          "data": {
            "text/plain": [
              "<keras.callbacks.History at 0x7fac9c7eff40>"
            ]
          },
          "metadata": {},
          "execution_count": 38
        }
      ]
    },
    {
      "cell_type": "code",
      "source": [],
      "metadata": {
        "id": "SGCqo4i_UXN-"
      },
      "execution_count": null,
      "outputs": []
    }
  ]
}